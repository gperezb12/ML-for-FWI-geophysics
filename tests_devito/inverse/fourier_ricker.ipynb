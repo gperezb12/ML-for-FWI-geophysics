{
 "cells": [
  {
   "cell_type": "code",
   "execution_count": 1,
   "id": "5a89867d",
   "metadata": {},
   "outputs": [
    {
     "data": {
      "text/plain": [
       "(2*w**2*exp(-w**2/f0**2)*cos(2*pi*t0*w)/(sqrt(pi)*f0**3),\n",
       " -2*w**2*exp(-w**2/f0**2)*sin(2*pi*t0*w)/(sqrt(pi)*f0**3))"
      ]
     },
     "execution_count": 1,
     "metadata": {},
     "output_type": "execute_result"
    }
   ],
   "source": [
    "import sympy as sp\n",
    "\n",
    "# Define symbols\n",
    "t, t0, f0, w, a = sp.symbols('t t0 f0 w a', real=True, positive=True)\n",
    "\n",
    "# Define a = pi^2 f0^2\n",
    "a_expr = sp.pi**2 * f0**2\n",
    "\n",
    "# Define the Ricker function\n",
    "psi_t = (1 - 2 * a * (t - t0)**2) * sp.exp(-a * (t - t0)**2)\n",
    "\n",
    "# Compute Fourier Transform\n",
    "Psi_w = sp.fourier_transform(psi_t, t, w)\n",
    "\n",
    "# Simplify and substitute a\n",
    "Psi_w_simplified = Psi_w.subs(a, a_expr).simplify()\n",
    "\n",
    "# Extract real and imaginary parts\n",
    "real_part = sp.re(Psi_w_simplified)\n",
    "imag_part = sp.im(Psi_w_simplified)\n",
    "\n",
    "# Output\n",
    "real_part, imag_part\n"
   ]
  },
  {
   "cell_type": "code",
   "execution_count": 4,
   "id": "38447af5",
   "metadata": {},
   "outputs": [
    {
     "name": "stdout",
     "output_type": "stream",
     "text": [
      "-2*pi**2*f0**2*FourierTransform((t - t0)**2*exp(-pi**2*f0**2*(t - t0)**2), t, w) + FourierTransform(exp(-pi**2*f0**2*(t - t0)**2), t, w)\n"
     ]
    },
    {
     "data": {
      "text/plain": [
       "(-2*pi**2*f0**2*re(FourierTransform((t - t0)**2*exp(-pi**2*f0**2*(t - t0)**2), t, w)) + re(FourierTransform(exp(-pi**2*f0**2*(t - t0)**2), t, w)),\n",
       " -2*pi**2*f0**2*im(FourierTransform((t - t0)**2*exp(-pi**2*f0**2*(t - t0)**2), t, w)) + im(FourierTransform(exp(-pi**2*f0**2*(t - t0)**2), t, w)))"
      ]
     },
     "execution_count": 4,
     "metadata": {},
     "output_type": "execute_result"
    }
   ],
   "source": [
    "import sympy as sp\n",
    "\n",
    "# Define symbols\n",
    "t, t0, f0, w = sp.symbols('t t0 f0 w', real=True)\n",
    "x, z = sp.symbols('x z', real=True)\n",
    "\n",
    "# Define the Ricker wavelet part\n",
    "a = sp.pi**2 * f0**2\n",
    "ricker = (1 - 2 * a * (t - t0)**2) * sp.exp(-a * (t - t0)**2)\n",
    "\n",
    "# Spatial delta functions\n",
    "delta_x = sp.DiracDelta(x - 500)\n",
    "delta_z = sp.DiracDelta(z - 975)\n",
    "\n",
    "# Full source expression S(x, z, t)\n",
    "S_xtz = ricker * delta_x * delta_z\n",
    "\n",
    "# Fourier transform in time (w.r.t t), keep x and z symbolic\n",
    "S_w_xz = sp.fourier_transform(ricker, t, w)\n",
    "\n",
    "print(S_w_xz)\n",
    "\n",
    "# Simplify\n",
    "S_w_xz_simplified = sp.simplify(S_w_xz)\n",
    "\n",
    "# Get real and imaginary parts\n",
    "real_part = sp.re(S_w_xz_simplified)\n",
    "imag_part = sp.im(S_w_xz_simplified)\n",
    "\n",
    "real_part, imag_part\n"
   ]
  },
  {
   "cell_type": "code",
   "execution_count": 5,
   "id": "06321f66",
   "metadata": {},
   "outputs": [
    {
     "data": {
      "text/plain": [
       "(2*w**2*exp(-w**2/f0**2)*cos(2*pi*t0*w)/(sqrt(pi)*f0**3),\n",
       " -2*w**2*exp(-w**2/f0**2)*sin(2*pi*t0*w)/(sqrt(pi)*f0**3))"
      ]
     },
     "execution_count": 5,
     "metadata": {},
     "output_type": "execute_result"
    }
   ],
   "source": [
    "import sympy as sp\n",
    "\n",
    "# Define symbols\n",
    "t, t0, f0, w, a = sp.symbols('t t0 f0 w a', real=True, positive=True)\n",
    "\n",
    "# Define a = pi^2 f0^2\n",
    "a_expr = sp.pi**2 * f0**2\n",
    "\n",
    "# Define the Ricker function\n",
    "psi_t = (1 - 2 * a * (t - t0)**2) * sp.exp(-a * (t - t0)**2)\n",
    "\n",
    "# Compute Fourier Transform\n",
    "Psi_w = sp.fourier_transform(psi_t, t, w)\n",
    "\n",
    "# Simplify and substitute a\n",
    "Psi_w_simplified = Psi_w.subs(a, a_expr).simplify()\n",
    "\n",
    "# Extract real and imaginary parts\n",
    "real_part = sp.re(Psi_w_simplified)\n",
    "imag_part = sp.im(Psi_w_simplified)\n",
    "\n",
    "# Output\n",
    "real_part, imag_part\n"
   ]
  }
 ],
 "metadata": {
  "kernelspec": {
   "display_name": "tdg",
   "language": "python",
   "name": "python3"
  },
  "language_info": {
   "codemirror_mode": {
    "name": "ipython",
    "version": 3
   },
   "file_extension": ".py",
   "mimetype": "text/x-python",
   "name": "python",
   "nbconvert_exporter": "python",
   "pygments_lexer": "ipython3",
   "version": "3.10.18"
  }
 },
 "nbformat": 4,
 "nbformat_minor": 5
}
